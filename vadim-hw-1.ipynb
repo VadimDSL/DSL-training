{
 "cells": [
  {
   "metadata": {
    "ExecuteTime": {
     "end_time": "2024-08-25T17:53:07.676455Z",
     "start_time": "2024-08-25T17:53:07.667458Z"
    }
   },
   "cell_type": "code",
   "source": [
    "import pandas as pd\n",
    "import matplotlib.pyplot as plt\n",
    "import matplotlib.pylab\n",
    "from pyexpat import features"
   ],
   "id": "24ed101d1d19e6aa",
   "outputs": [],
   "execution_count": 40
  },
  {
   "metadata": {
    "ExecuteTime": {
     "end_time": "2024-08-25T17:53:09.957514Z",
     "start_time": "2024-08-25T17:53:09.850308Z"
    }
   },
   "cell_type": "code",
   "source": [
    "# df = pd.read_csv(\"data/TAI-CM_2023-01_2024-08+.csv\",low_memory=False)\n",
    "# df = pd.read_csv(\"data/AmazonSalesData.csv\")\n",
    "vadim_df = pd.read_csv(\"data/Mobiles_Dataset.csv\")\n",
    "vadim_df"
   ],
   "id": "1ca6b9b8fe85df40",
   "outputs": [
    {
     "data": {
      "text/plain": [
       "                           Product Name Actual price Discount price  Stars  \\\n",
       "0       Apple iPhone 15 (Green, 128 GB)      ₹79,600        ₹65,999    4.6   \n",
       "1        Apple iPhone 15 (Blue, 128 GB)      ₹79,600        ₹65,999    4.6   \n",
       "2       Apple iPhone 15 (Black, 128 GB)      ₹79,600        ₹65,999    4.6   \n",
       "3    OnePlus N20 SE (JADE WAVE, 128 GB)      ₹19,999        ₹11,489    4.0   \n",
       "4    OnePlus N20 SE (BLUE OASIS, 64 GB)      ₹16,999        ₹12,999    4.0   \n",
       "..                                  ...          ...            ...    ...   \n",
       "979                        Kechaoda A27       ₹1,499           ₹967    4.0   \n",
       "980                        Kechaoda A27       ₹1,499           ₹975    4.0   \n",
       "981                        Kechaoda A27       ₹1,499           ₹975    4.0   \n",
       "982                        Kechaoda A27       ₹1,499           ₹930    4.0   \n",
       "983                        Kechaoda A27       ₹1,499           ₹967    4.0   \n",
       "\n",
       "             Rating        Reviews RAM (GB) Storage (GB)  Display Size (inch)  \\\n",
       "0    44,793 Ratings  2,402 Reviews      NIL          128                 6.10   \n",
       "1    44,793 Ratings  2,402 Reviews      NIL          128                 6.10   \n",
       "2    44,793 Ratings  2,402 Reviews      NIL          128                 6.10   \n",
       "3     1,005 Ratings     41 Reviews        4          128                 6.56   \n",
       "4     1,005 Ratings     41 Reviews        4           64                 6.56   \n",
       "..              ...            ...      ...          ...                  ...   \n",
       "979  11,022 Ratings    693 Reviews      NIL          NIL                 0.66   \n",
       "980  11,022 Ratings    693 Reviews      NIL          NIL                 0.66   \n",
       "981  11,022 Ratings    693 Reviews      NIL          NIL                 0.66   \n",
       "982  11,022 Ratings    693 Reviews      NIL          NIL                 0.66   \n",
       "983  11,022 Ratings    693 Reviews      NIL          NIL                 0.66   \n",
       "\n",
       "          Camera                                        Description  \\\n",
       "0    48MP + 12MP  128 GB ROM15.49 cm (6.1 inch) Super Retina XDR...   \n",
       "1    48MP + 12MP  128 GB ROM15.49 cm (6.1 inch) Super Retina XDR...   \n",
       "2    48MP + 12MP  128 GB ROM15.49 cm (6.1 inch) Super Retina XDR...   \n",
       "3          50MP   4 GB RAM | 128 GB ROM16.66 cm (6.56 inch) Disp...   \n",
       "4          50MP   4 GB RAM | 64 GB ROM16.66 cm (6.56 inch) Displ...   \n",
       "..           ...                                                ...   \n",
       "979  0MP | 0MP    32 MB RAM | 32 MB ROM | Expandable Upto 16 GB1...   \n",
       "980          NaN  32 MB RAM | 32 MB ROM | Expandable Upto 16 GB1...   \n",
       "981          NaN  32 MB RAM | 32 MB ROM | Expandable Upto 16 GB1...   \n",
       "982  0MP | 0MP    32 MB RAM | 32 MB ROM | Expandable Upto 16 GB1...   \n",
       "983  0MP | 0MP    32 MB RAM | 32 MB ROM | Expandable Upto 16 GB1...   \n",
       "\n",
       "                                                  Link  \n",
       "0    https://www.flipkart.com/apple-iphone-15-green...  \n",
       "1    https://www.flipkart.com/apple-iphone-15-blue-...  \n",
       "2    https://www.flipkart.com/apple-iphone-15-black...  \n",
       "3    https://www.flipkart.com/oneplus-n20-se-jade-w...  \n",
       "4    https://www.flipkart.com/oneplus-n20-se-blue-o...  \n",
       "..                                                 ...  \n",
       "979  https://www.flipkart.com/kechaoda-a27/p/itmfe3...  \n",
       "980  https://www.flipkart.com/kechaoda-a27/p/itmfe3...  \n",
       "981  https://www.flipkart.com/kechaoda-a27/p/itmfe3...  \n",
       "982  https://www.flipkart.com/kechaoda-a27/p/itmfe3...  \n",
       "983  https://www.flipkart.com/kechaoda-a27/p/itmfe3...  \n",
       "\n",
       "[984 rows x 12 columns]"
      ],
      "text/html": [
       "<div>\n",
       "<style scoped>\n",
       "    .dataframe tbody tr th:only-of-type {\n",
       "        vertical-align: middle;\n",
       "    }\n",
       "\n",
       "    .dataframe tbody tr th {\n",
       "        vertical-align: top;\n",
       "    }\n",
       "\n",
       "    .dataframe thead th {\n",
       "        text-align: right;\n",
       "    }\n",
       "</style>\n",
       "<table border=\"1\" class=\"dataframe\">\n",
       "  <thead>\n",
       "    <tr style=\"text-align: right;\">\n",
       "      <th></th>\n",
       "      <th>Product Name</th>\n",
       "      <th>Actual price</th>\n",
       "      <th>Discount price</th>\n",
       "      <th>Stars</th>\n",
       "      <th>Rating</th>\n",
       "      <th>Reviews</th>\n",
       "      <th>RAM (GB)</th>\n",
       "      <th>Storage (GB)</th>\n",
       "      <th>Display Size (inch)</th>\n",
       "      <th>Camera</th>\n",
       "      <th>Description</th>\n",
       "      <th>Link</th>\n",
       "    </tr>\n",
       "  </thead>\n",
       "  <tbody>\n",
       "    <tr>\n",
       "      <th>0</th>\n",
       "      <td>Apple iPhone 15 (Green, 128 GB)</td>\n",
       "      <td>₹79,600</td>\n",
       "      <td>₹65,999</td>\n",
       "      <td>4.6</td>\n",
       "      <td>44,793 Ratings</td>\n",
       "      <td>2,402 Reviews</td>\n",
       "      <td>NIL</td>\n",
       "      <td>128</td>\n",
       "      <td>6.10</td>\n",
       "      <td>48MP + 12MP</td>\n",
       "      <td>128 GB ROM15.49 cm (6.1 inch) Super Retina XDR...</td>\n",
       "      <td>https://www.flipkart.com/apple-iphone-15-green...</td>\n",
       "    </tr>\n",
       "    <tr>\n",
       "      <th>1</th>\n",
       "      <td>Apple iPhone 15 (Blue, 128 GB)</td>\n",
       "      <td>₹79,600</td>\n",
       "      <td>₹65,999</td>\n",
       "      <td>4.6</td>\n",
       "      <td>44,793 Ratings</td>\n",
       "      <td>2,402 Reviews</td>\n",
       "      <td>NIL</td>\n",
       "      <td>128</td>\n",
       "      <td>6.10</td>\n",
       "      <td>48MP + 12MP</td>\n",
       "      <td>128 GB ROM15.49 cm (6.1 inch) Super Retina XDR...</td>\n",
       "      <td>https://www.flipkart.com/apple-iphone-15-blue-...</td>\n",
       "    </tr>\n",
       "    <tr>\n",
       "      <th>2</th>\n",
       "      <td>Apple iPhone 15 (Black, 128 GB)</td>\n",
       "      <td>₹79,600</td>\n",
       "      <td>₹65,999</td>\n",
       "      <td>4.6</td>\n",
       "      <td>44,793 Ratings</td>\n",
       "      <td>2,402 Reviews</td>\n",
       "      <td>NIL</td>\n",
       "      <td>128</td>\n",
       "      <td>6.10</td>\n",
       "      <td>48MP + 12MP</td>\n",
       "      <td>128 GB ROM15.49 cm (6.1 inch) Super Retina XDR...</td>\n",
       "      <td>https://www.flipkart.com/apple-iphone-15-black...</td>\n",
       "    </tr>\n",
       "    <tr>\n",
       "      <th>3</th>\n",
       "      <td>OnePlus N20 SE (JADE WAVE, 128 GB)</td>\n",
       "      <td>₹19,999</td>\n",
       "      <td>₹11,489</td>\n",
       "      <td>4.0</td>\n",
       "      <td>1,005 Ratings</td>\n",
       "      <td>41 Reviews</td>\n",
       "      <td>4</td>\n",
       "      <td>128</td>\n",
       "      <td>6.56</td>\n",
       "      <td>50MP</td>\n",
       "      <td>4 GB RAM | 128 GB ROM16.66 cm (6.56 inch) Disp...</td>\n",
       "      <td>https://www.flipkart.com/oneplus-n20-se-jade-w...</td>\n",
       "    </tr>\n",
       "    <tr>\n",
       "      <th>4</th>\n",
       "      <td>OnePlus N20 SE (BLUE OASIS, 64 GB)</td>\n",
       "      <td>₹16,999</td>\n",
       "      <td>₹12,999</td>\n",
       "      <td>4.0</td>\n",
       "      <td>1,005 Ratings</td>\n",
       "      <td>41 Reviews</td>\n",
       "      <td>4</td>\n",
       "      <td>64</td>\n",
       "      <td>6.56</td>\n",
       "      <td>50MP</td>\n",
       "      <td>4 GB RAM | 64 GB ROM16.66 cm (6.56 inch) Displ...</td>\n",
       "      <td>https://www.flipkart.com/oneplus-n20-se-blue-o...</td>\n",
       "    </tr>\n",
       "    <tr>\n",
       "      <th>...</th>\n",
       "      <td>...</td>\n",
       "      <td>...</td>\n",
       "      <td>...</td>\n",
       "      <td>...</td>\n",
       "      <td>...</td>\n",
       "      <td>...</td>\n",
       "      <td>...</td>\n",
       "      <td>...</td>\n",
       "      <td>...</td>\n",
       "      <td>...</td>\n",
       "      <td>...</td>\n",
       "      <td>...</td>\n",
       "    </tr>\n",
       "    <tr>\n",
       "      <th>979</th>\n",
       "      <td>Kechaoda A27</td>\n",
       "      <td>₹1,499</td>\n",
       "      <td>₹967</td>\n",
       "      <td>4.0</td>\n",
       "      <td>11,022 Ratings</td>\n",
       "      <td>693 Reviews</td>\n",
       "      <td>NIL</td>\n",
       "      <td>NIL</td>\n",
       "      <td>0.66</td>\n",
       "      <td>0MP | 0MP</td>\n",
       "      <td>32 MB RAM | 32 MB ROM | Expandable Upto 16 GB1...</td>\n",
       "      <td>https://www.flipkart.com/kechaoda-a27/p/itmfe3...</td>\n",
       "    </tr>\n",
       "    <tr>\n",
       "      <th>980</th>\n",
       "      <td>Kechaoda A27</td>\n",
       "      <td>₹1,499</td>\n",
       "      <td>₹975</td>\n",
       "      <td>4.0</td>\n",
       "      <td>11,022 Ratings</td>\n",
       "      <td>693 Reviews</td>\n",
       "      <td>NIL</td>\n",
       "      <td>NIL</td>\n",
       "      <td>0.66</td>\n",
       "      <td>NaN</td>\n",
       "      <td>32 MB RAM | 32 MB ROM | Expandable Upto 16 GB1...</td>\n",
       "      <td>https://www.flipkart.com/kechaoda-a27/p/itmfe3...</td>\n",
       "    </tr>\n",
       "    <tr>\n",
       "      <th>981</th>\n",
       "      <td>Kechaoda A27</td>\n",
       "      <td>₹1,499</td>\n",
       "      <td>₹975</td>\n",
       "      <td>4.0</td>\n",
       "      <td>11,022 Ratings</td>\n",
       "      <td>693 Reviews</td>\n",
       "      <td>NIL</td>\n",
       "      <td>NIL</td>\n",
       "      <td>0.66</td>\n",
       "      <td>NaN</td>\n",
       "      <td>32 MB RAM | 32 MB ROM | Expandable Upto 16 GB1...</td>\n",
       "      <td>https://www.flipkart.com/kechaoda-a27/p/itmfe3...</td>\n",
       "    </tr>\n",
       "    <tr>\n",
       "      <th>982</th>\n",
       "      <td>Kechaoda A27</td>\n",
       "      <td>₹1,499</td>\n",
       "      <td>₹930</td>\n",
       "      <td>4.0</td>\n",
       "      <td>11,022 Ratings</td>\n",
       "      <td>693 Reviews</td>\n",
       "      <td>NIL</td>\n",
       "      <td>NIL</td>\n",
       "      <td>0.66</td>\n",
       "      <td>0MP | 0MP</td>\n",
       "      <td>32 MB RAM | 32 MB ROM | Expandable Upto 16 GB1...</td>\n",
       "      <td>https://www.flipkart.com/kechaoda-a27/p/itmfe3...</td>\n",
       "    </tr>\n",
       "    <tr>\n",
       "      <th>983</th>\n",
       "      <td>Kechaoda A27</td>\n",
       "      <td>₹1,499</td>\n",
       "      <td>₹967</td>\n",
       "      <td>4.0</td>\n",
       "      <td>11,022 Ratings</td>\n",
       "      <td>693 Reviews</td>\n",
       "      <td>NIL</td>\n",
       "      <td>NIL</td>\n",
       "      <td>0.66</td>\n",
       "      <td>0MP | 0MP</td>\n",
       "      <td>32 MB RAM | 32 MB ROM | Expandable Upto 16 GB1...</td>\n",
       "      <td>https://www.flipkart.com/kechaoda-a27/p/itmfe3...</td>\n",
       "    </tr>\n",
       "  </tbody>\n",
       "</table>\n",
       "<p>984 rows × 12 columns</p>\n",
       "</div>"
      ]
     },
     "execution_count": 41,
     "metadata": {},
     "output_type": "execute_result"
    }
   ],
   "execution_count": 41
  },
  {
   "metadata": {
    "ExecuteTime": {
     "end_time": "2024-08-25T17:53:16.380982Z",
     "start_time": "2024-08-25T17:53:16.324951Z"
    }
   },
   "cell_type": "code",
   "source": "vadim_df.describe()",
   "id": "ca4a7810ae202628",
   "outputs": [
    {
     "data": {
      "text/plain": [
       "            Stars  Display Size (inch)\n",
       "count  984.000000           984.000000\n",
       "mean     4.254980             6.043116\n",
       "std      0.199734             1.581261\n",
       "min      3.400000             0.660000\n",
       "25%      4.200000             6.500000\n",
       "50%      4.300000             6.670000\n",
       "75%      4.400000             6.720000\n",
       "max      5.000000             7.820000"
      ],
      "text/html": [
       "<div>\n",
       "<style scoped>\n",
       "    .dataframe tbody tr th:only-of-type {\n",
       "        vertical-align: middle;\n",
       "    }\n",
       "\n",
       "    .dataframe tbody tr th {\n",
       "        vertical-align: top;\n",
       "    }\n",
       "\n",
       "    .dataframe thead th {\n",
       "        text-align: right;\n",
       "    }\n",
       "</style>\n",
       "<table border=\"1\" class=\"dataframe\">\n",
       "  <thead>\n",
       "    <tr style=\"text-align: right;\">\n",
       "      <th></th>\n",
       "      <th>Stars</th>\n",
       "      <th>Display Size (inch)</th>\n",
       "    </tr>\n",
       "  </thead>\n",
       "  <tbody>\n",
       "    <tr>\n",
       "      <th>count</th>\n",
       "      <td>984.000000</td>\n",
       "      <td>984.000000</td>\n",
       "    </tr>\n",
       "    <tr>\n",
       "      <th>mean</th>\n",
       "      <td>4.254980</td>\n",
       "      <td>6.043116</td>\n",
       "    </tr>\n",
       "    <tr>\n",
       "      <th>std</th>\n",
       "      <td>0.199734</td>\n",
       "      <td>1.581261</td>\n",
       "    </tr>\n",
       "    <tr>\n",
       "      <th>min</th>\n",
       "      <td>3.400000</td>\n",
       "      <td>0.660000</td>\n",
       "    </tr>\n",
       "    <tr>\n",
       "      <th>25%</th>\n",
       "      <td>4.200000</td>\n",
       "      <td>6.500000</td>\n",
       "    </tr>\n",
       "    <tr>\n",
       "      <th>50%</th>\n",
       "      <td>4.300000</td>\n",
       "      <td>6.670000</td>\n",
       "    </tr>\n",
       "    <tr>\n",
       "      <th>75%</th>\n",
       "      <td>4.400000</td>\n",
       "      <td>6.720000</td>\n",
       "    </tr>\n",
       "    <tr>\n",
       "      <th>max</th>\n",
       "      <td>5.000000</td>\n",
       "      <td>7.820000</td>\n",
       "    </tr>\n",
       "  </tbody>\n",
       "</table>\n",
       "</div>"
      ]
     },
     "execution_count": 43,
     "metadata": {},
     "output_type": "execute_result"
    }
   ],
   "execution_count": 43
  },
  {
   "metadata": {
    "ExecuteTime": {
     "end_time": "2024-08-25T17:53:19.302169Z",
     "start_time": "2024-08-25T17:53:18.952684Z"
    }
   },
   "cell_type": "code",
   "source": "vadim_df[\"Stars\"].hist(bins=30)",
   "id": "d7138bc37d4b9566",
   "outputs": [
    {
     "data": {
      "text/plain": [
       "<Axes: >"
      ]
     },
     "execution_count": 44,
     "metadata": {},
     "output_type": "execute_result"
    },
    {
     "data": {
      "text/plain": [
       "<Figure size 640x480 with 1 Axes>"
      ],
      "image/png": "[encoded data removed]"
     },
     "metadata": {},
     "output_type": "display_data"
    }
   ],
   "execution_count": 44
  },
  {
   "metadata": {
    "ExecuteTime": {
     "end_time": "2024-08-25T17:53:20.900458Z",
     "start_time": "2024-08-25T17:53:20.530917Z"
    }
   },
   "cell_type": "code",
   "source": "vadim_df[[\"Stars\"]].boxplot()",
   "id": "e7fb5cc0bd9051f4",
   "outputs": [
    {
     "data": {
      "text/plain": [
       "<Axes: >"
      ]
     },
     "execution_count": 45,
     "metadata": {},
     "output_type": "execute_result"
    },
    {
     "data": {
      "text/plain": [
       "<Figure size 640x480 with 1 Axes>"
      ],
      "image/png": "[encoded data removed]"
     },
     "metadata": {},
     "output_type": "display_data"
    }
   ],
   "execution_count": 45
  },
  {
   "metadata": {
    "ExecuteTime": {
     "end_time": "2024-08-25T17:53:24.073470Z",
     "start_time": "2024-08-25T17:53:24.054466Z"
    }
   },
   "cell_type": "code",
   "source": [
    "import matplotlib.pyplot as plt\n",
    "from sklearn.datasets import load_iris"
   ],
   "id": "3860c8632db98c02",
   "outputs": [],
   "execution_count": 46
  },
  {
   "metadata": {
    "ExecuteTime": {
     "end_time": "2024-08-25T17:53:24.846922Z",
     "start_time": "2024-08-25T17:53:24.836925Z"
    }
   },
   "cell_type": "code",
   "source": "feature = vadim_df.iloc[:, 3]",
   "id": "bda2681561cafb0a",
   "outputs": [],
   "execution_count": 47
  },
  {
   "metadata": {
    "ExecuteTime": {
     "end_time": "2024-08-25T17:53:26.125220Z",
     "start_time": "2024-08-25T17:53:26.113661Z"
    }
   },
   "cell_type": "code",
   "source": "# feature = features[:, 3]  # For example, the first feature",
   "id": "2e54165aa28f5d51",
   "outputs": [],
   "execution_count": 48
  },
  {
   "metadata": {
    "ExecuteTime": {
     "end_time": "2024-08-25T17:53:27.935198Z",
     "start_time": "2024-08-25T17:53:27.570935Z"
    }
   },
   "cell_type": "code",
   "source": [
    "plt.hist(feature, bins=30, color='skyblue', edgecolor='black')\n",
    "plt.xlabel('Stars Value')\n",
    "plt.ylabel('Frequency')\n",
    "plt.title('Histogram of Stars')\n",
    "plt.show()"
   ],
   "id": "d7e91f354a0d9a6",
   "outputs": [
    {
     "data": {
      "text/plain": [
       "<Figure size 640x480 with 1 Axes>"
      ],
      "image/png": "[encoded data removed]"
     },
     "metadata": {},
     "output_type": "display_data"
    }
   ],
   "execution_count": 49
  },
  {
   "metadata": {
    "ExecuteTime": {
     "end_time": "2024-08-25T17:53:38.677421Z",
     "start_time": "2024-08-25T17:53:38.667414Z"
    }
   },
   "cell_type": "code",
   "source": [
    "import pandas as pd\n",
    "import seaborn as sns\n",
    "import matplotlib.pyplot as plt"
   ],
   "id": "25cf06a240dcb5d",
   "outputs": [],
   "execution_count": 50
  },
  {
   "metadata": {
    "ExecuteTime": {
     "end_time": "2024-08-25T17:55:03.961520Z",
     "start_time": "2024-08-25T17:55:03.950602Z"
    }
   },
   "cell_type": "code",
   "source": [
    "# from sklearn.datasets import load_iris\n",
    "\n",
    "# Load the Iris dataset\n",
    "# iris = load_iris()\n",
    "# iris\n",
    "# iris_df = pd.DataFrame(data=iris.data, columns=iris.feature_names)\n",
    "# iris_df['species'] = iris.target\n"
   ],
   "id": "11806df185df72d9",
   "outputs": [],
   "execution_count": 53
  },
  {
   "metadata": {
    "ExecuteTime": {
     "end_time": "2024-08-25T17:54:21.742862Z",
     "start_time": "2024-08-25T17:54:21.715863Z"
    }
   },
   "cell_type": "code",
   "source": "feature",
   "id": "b89d329a873fd53e",
   "outputs": [
    {
     "data": {
      "text/plain": [
       "0      4.6\n",
       "1      4.6\n",
       "2      4.6\n",
       "3      4.0\n",
       "4      4.0\n",
       "      ... \n",
       "979    4.0\n",
       "980    4.0\n",
       "981    4.0\n",
       "982    4.0\n",
       "983    4.0\n",
       "Name: Stars, Length: 984, dtype: float64"
      ]
     },
     "execution_count": 51,
     "metadata": {},
     "output_type": "execute_result"
    }
   ],
   "execution_count": 51
  },
  {
   "metadata": {
    "ExecuteTime": {
     "end_time": "2024-08-25T17:54:26.380685Z",
     "start_time": "2024-08-25T17:54:26.348950Z"
    }
   },
   "cell_type": "code",
   "source": "features",
   "id": "dd19ad6e6d1c6fea",
   "outputs": [
    {
     "data": {
      "text/plain": [
       "                           Product Name Actual price Discount price  Stars  \\\n",
       "0       Apple iPhone 15 (Green, 128 GB)      ₹79,600        ₹65,999    4.6   \n",
       "1        Apple iPhone 15 (Blue, 128 GB)      ₹79,600        ₹65,999    4.6   \n",
       "2       Apple iPhone 15 (Black, 128 GB)      ₹79,600        ₹65,999    4.6   \n",
       "3    OnePlus N20 SE (JADE WAVE, 128 GB)      ₹19,999        ₹11,489    4.0   \n",
       "4    OnePlus N20 SE (BLUE OASIS, 64 GB)      ₹16,999        ₹12,999    4.0   \n",
       "..                                  ...          ...            ...    ...   \n",
       "979                        Kechaoda A27       ₹1,499           ₹967    4.0   \n",
       "980                        Kechaoda A27       ₹1,499           ₹975    4.0   \n",
       "981                        Kechaoda A27       ₹1,499           ₹975    4.0   \n",
       "982                        Kechaoda A27       ₹1,499           ₹930    4.0   \n",
       "983                        Kechaoda A27       ₹1,499           ₹967    4.0   \n",
       "\n",
       "             Rating        Reviews RAM (GB) Storage (GB)  Display Size (inch)  \\\n",
       "0    44,793 Ratings  2,402 Reviews      NIL          128                 6.10   \n",
       "1    44,793 Ratings  2,402 Reviews      NIL          128                 6.10   \n",
       "2    44,793 Ratings  2,402 Reviews      NIL          128                 6.10   \n",
       "3     1,005 Ratings     41 Reviews        4          128                 6.56   \n",
       "4     1,005 Ratings     41 Reviews        4           64                 6.56   \n",
       "..              ...            ...      ...          ...                  ...   \n",
       "979  11,022 Ratings    693 Reviews      NIL          NIL                 0.66   \n",
       "980  11,022 Ratings    693 Reviews      NIL          NIL                 0.66   \n",
       "981  11,022 Ratings    693 Reviews      NIL          NIL                 0.66   \n",
       "982  11,022 Ratings    693 Reviews      NIL          NIL                 0.66   \n",
       "983  11,022 Ratings    693 Reviews      NIL          NIL                 0.66   \n",
       "\n",
       "          Camera                                        Description  \\\n",
       "0    48MP + 12MP  128 GB ROM15.49 cm (6.1 inch) Super Retina XDR...   \n",
       "1    48MP + 12MP  128 GB ROM15.49 cm (6.1 inch) Super Retina XDR...   \n",
       "2    48MP + 12MP  128 GB ROM15.49 cm (6.1 inch) Super Retina XDR...   \n",
       "3          50MP   4 GB RAM | 128 GB ROM16.66 cm (6.56 inch) Disp...   \n",
       "4          50MP   4 GB RAM | 64 GB ROM16.66 cm (6.56 inch) Displ...   \n",
       "..           ...                                                ...   \n",
       "979  0MP | 0MP    32 MB RAM | 32 MB ROM | Expandable Upto 16 GB1...   \n",
       "980          NaN  32 MB RAM | 32 MB ROM | Expandable Upto 16 GB1...   \n",
       "981          NaN  32 MB RAM | 32 MB ROM | Expandable Upto 16 GB1...   \n",
       "982  0MP | 0MP    32 MB RAM | 32 MB ROM | Expandable Upto 16 GB1...   \n",
       "983  0MP | 0MP    32 MB RAM | 32 MB ROM | Expandable Upto 16 GB1...   \n",
       "\n",
       "                                                  Link  \n",
       "0    https://www.flipkart.com/apple-iphone-15-green...  \n",
       "1    https://www.flipkart.com/apple-iphone-15-blue-...  \n",
       "2    https://www.flipkart.com/apple-iphone-15-black...  \n",
       "3    https://www.flipkart.com/oneplus-n20-se-jade-w...  \n",
       "4    https://www.flipkart.com/oneplus-n20-se-blue-o...  \n",
       "..                                                 ...  \n",
       "979  https://www.flipkart.com/kechaoda-a27/p/itmfe3...  \n",
       "980  https://www.flipkart.com/kechaoda-a27/p/itmfe3...  \n",
       "981  https://www.flipkart.com/kechaoda-a27/p/itmfe3...  \n",
       "982  https://www.flipkart.com/kechaoda-a27/p/itmfe3...  \n",
       "983  https://www.flipkart.com/kechaoda-a27/p/itmfe3...  \n",
       "\n",
       "[984 rows x 12 columns]"
      ],
      "text/html": [
       "<div>\n",
       "<style scoped>\n",
       "    .dataframe tbody tr th:only-of-type {\n",
       "        vertical-align: middle;\n",
       "    }\n",
       "\n",
       "    .dataframe tbody tr th {\n",
       "        vertical-align: top;\n",
       "    }\n",
       "\n",
       "    .dataframe thead th {\n",
       "        text-align: right;\n",
       "    }\n",
       "</style>\n",
       "<table border=\"1\" class=\"dataframe\">\n",
       "  <thead>\n",
       "    <tr style=\"text-align: right;\">\n",
       "      <th></th>\n",
       "      <th>Product Name</th>\n",
       "      <th>Actual price</th>\n",
       "      <th>Discount price</th>\n",
       "      <th>Stars</th>\n",
       "      <th>Rating</th>\n",
       "      <th>Reviews</th>\n",
       "      <th>RAM (GB)</th>\n",
       "      <th>Storage (GB)</th>\n",
       "      <th>Display Size (inch)</th>\n",
       "      <th>Camera</th>\n",
       "      <th>Description</th>\n",
       "      <th>Link</th>\n",
       "    </tr>\n",
       "  </thead>\n",
       "  <tbody>\n",
       "    <tr>\n",
       "      <th>0</th>\n",
       "      <td>Apple iPhone 15 (Green, 128 GB)</td>\n",
       "      <td>₹79,600</td>\n",
       "      <td>₹65,999</td>\n",
       "      <td>4.6</td>\n",
       "      <td>44,793 Ratings</td>\n",
       "      <td>2,402 Reviews</td>\n",
       "      <td>NIL</td>\n",
       "      <td>128</td>\n",
       "      <td>6.10</td>\n",
       "      <td>48MP + 12MP</td>\n",
       "      <td>128 GB ROM15.49 cm (6.1 inch) Super Retina XDR...</td>\n",
       "      <td>https://www.flipkart.com/apple-iphone-15-green...</td>\n",
       "    </tr>\n",
       "    <tr>\n",
       "      <th>1</th>\n",
       "      <td>Apple iPhone 15 (Blue, 128 GB)</td>\n",
       "      <td>₹79,600</td>\n",
       "      <td>₹65,999</td>\n",
       "      <td>4.6</td>\n",
       "      <td>44,793 Ratings</td>\n",
       "      <td>2,402 Reviews</td>\n",
       "      <td>NIL</td>\n",
       "      <td>128</td>\n",
       "      <td>6.10</td>\n",
       "      <td>48MP + 12MP</td>\n",
       "      <td>128 GB ROM15.49 cm (6.1 inch) Super Retina XDR...</td>\n",
       "      <td>https://www.flipkart.com/apple-iphone-15-blue-...</td>\n",
       "    </tr>\n",
       "    <tr>\n",
       "      <th>2</th>\n",
       "      <td>Apple iPhone 15 (Black, 128 GB)</td>\n",
       "      <td>₹79,600</td>\n",
       "      <td>₹65,999</td>\n",
       "      <td>4.6</td>\n",
       "      <td>44,793 Ratings</td>\n",
       "      <td>2,402 Reviews</td>\n",
       "      <td>NIL</td>\n",
       "      <td>128</td>\n",
       "      <td>6.10</td>\n",
       "      <td>48MP + 12MP</td>\n",
       "      <td>128 GB ROM15.49 cm (6.1 inch) Super Retina XDR...</td>\n",
       "      <td>https://www.flipkart.com/apple-iphone-15-black...</td>\n",
       "    </tr>\n",
       "    <tr>\n",
       "      <th>3</th>\n",
       "      <td>OnePlus N20 SE (JADE WAVE, 128 GB)</td>\n",
       "      <td>₹19,999</td>\n",
       "      <td>₹11,489</td>\n",
       "      <td>4.0</td>\n",
       "      <td>1,005 Ratings</td>\n",
       "      <td>41 Reviews</td>\n",
       "      <td>4</td>\n",
       "      <td>128</td>\n",
       "      <td>6.56</td>\n",
       "      <td>50MP</td>\n",
       "      <td>4 GB RAM | 128 GB ROM16.66 cm (6.56 inch) Disp...</td>\n",
       "      <td>https://www.flipkart.com/oneplus-n20-se-jade-w...</td>\n",
       "    </tr>\n",
       "    <tr>\n",
       "      <th>4</th>\n",
       "      <td>OnePlus N20 SE (BLUE OASIS, 64 GB)</td>\n",
       "      <td>₹16,999</td>\n",
       "      <td>₹12,999</td>\n",
       "      <td>4.0</td>\n",
       "      <td>1,005 Ratings</td>\n",
       "      <td>41 Reviews</td>\n",
       "      <td>4</td>\n",
       "      <td>64</td>\n",
       "      <td>6.56</td>\n",
       "      <td>50MP</td>\n",
       "      <td>4 GB RAM | 64 GB ROM16.66 cm (6.56 inch) Displ...</td>\n",
       "      <td>https://www.flipkart.com/oneplus-n20-se-blue-o...</td>\n",
       "    </tr>\n",
       "    <tr>\n",
       "      <th>...</th>\n",
       "      <td>...</td>\n",
       "      <td>...</td>\n",
       "      <td>...</td>\n",
       "      <td>...</td>\n",
       "      <td>...</td>\n",
       "      <td>...</td>\n",
       "      <td>...</td>\n",
       "      <td>...</td>\n",
       "      <td>...</td>\n",
       "      <td>...</td>\n",
       "      <td>...</td>\n",
       "      <td>...</td>\n",
       "    </tr>\n",
       "    <tr>\n",
       "      <th>979</th>\n",
       "      <td>Kechaoda A27</td>\n",
       "      <td>₹1,499</td>\n",
       "      <td>₹967</td>\n",
       "      <td>4.0</td>\n",
       "      <td>11,022 Ratings</td>\n",
       "      <td>693 Reviews</td>\n",
       "      <td>NIL</td>\n",
       "      <td>NIL</td>\n",
       "      <td>0.66</td>\n",
       "      <td>0MP | 0MP</td>\n",
       "      <td>32 MB RAM | 32 MB ROM | Expandable Upto 16 GB1...</td>\n",
       "      <td>https://www.flipkart.com/kechaoda-a27/p/itmfe3...</td>\n",
       "    </tr>\n",
       "    <tr>\n",
       "      <th>980</th>\n",
       "      <td>Kechaoda A27</td>\n",
       "      <td>₹1,499</td>\n",
       "      <td>₹975</td>\n",
       "      <td>4.0</td>\n",
       "      <td>11,022 Ratings</td>\n",
       "      <td>693 Reviews</td>\n",
       "      <td>NIL</td>\n",
       "      <td>NIL</td>\n",
       "      <td>0.66</td>\n",
       "      <td>NaN</td>\n",
       "      <td>32 MB RAM | 32 MB ROM | Expandable Upto 16 GB1...</td>\n",
       "      <td>https://www.flipkart.com/kechaoda-a27/p/itmfe3...</td>\n",
       "    </tr>\n",
       "    <tr>\n",
       "      <th>981</th>\n",
       "      <td>Kechaoda A27</td>\n",
       "      <td>₹1,499</td>\n",
       "      <td>₹975</td>\n",
       "      <td>4.0</td>\n",
       "      <td>11,022 Ratings</td>\n",
       "      <td>693 Reviews</td>\n",
       "      <td>NIL</td>\n",
       "      <td>NIL</td>\n",
       "      <td>0.66</td>\n",
       "      <td>NaN</td>\n",
       "      <td>32 MB RAM | 32 MB ROM | Expandable Upto 16 GB1...</td>\n",
       "      <td>https://www.flipkart.com/kechaoda-a27/p/itmfe3...</td>\n",
       "    </tr>\n",
       "    <tr>\n",
       "      <th>982</th>\n",
       "      <td>Kechaoda A27</td>\n",
       "      <td>₹1,499</td>\n",
       "      <td>₹930</td>\n",
       "      <td>4.0</td>\n",
       "      <td>11,022 Ratings</td>\n",
       "      <td>693 Reviews</td>\n",
       "      <td>NIL</td>\n",
       "      <td>NIL</td>\n",
       "      <td>0.66</td>\n",
       "      <td>0MP | 0MP</td>\n",
       "      <td>32 MB RAM | 32 MB ROM | Expandable Upto 16 GB1...</td>\n",
       "      <td>https://www.flipkart.com/kechaoda-a27/p/itmfe3...</td>\n",
       "    </tr>\n",
       "    <tr>\n",
       "      <th>983</th>\n",
       "      <td>Kechaoda A27</td>\n",
       "      <td>₹1,499</td>\n",
       "      <td>₹967</td>\n",
       "      <td>4.0</td>\n",
       "      <td>11,022 Ratings</td>\n",
       "      <td>693 Reviews</td>\n",
       "      <td>NIL</td>\n",
       "      <td>NIL</td>\n",
       "      <td>0.66</td>\n",
       "      <td>0MP | 0MP</td>\n",
       "      <td>32 MB RAM | 32 MB ROM | Expandable Upto 16 GB1...</td>\n",
       "      <td>https://www.flipkart.com/kechaoda-a27/p/itmfe3...</td>\n",
       "    </tr>\n",
       "  </tbody>\n",
       "</table>\n",
       "<p>984 rows × 12 columns</p>\n",
       "</div>"
      ]
     },
     "execution_count": 52,
     "metadata": {},
     "output_type": "execute_result"
    }
   ],
   "execution_count": 52
  },
  {
   "metadata": {
    "ExecuteTime": {
     "end_time": "2024-08-25T17:56:26.293694Z",
     "start_time": "2024-08-25T17:56:26.273697Z"
    }
   },
   "cell_type": "code",
   "source": [
    "\n",
    "mydata_df = pd.DataFrame(data=feature)\n",
    "# mydata_df['species'] = iris.target"
   ],
   "id": "f15fa1b57caa594b",
   "outputs": [],
   "execution_count": 63
  },
  {
   "metadata": {
    "ExecuteTime": {
     "end_time": "2024-08-25T17:58:39.169941Z",
     "start_time": "2024-08-25T17:58:39.148943Z"
    }
   },
   "cell_type": "code",
   "source": "mydata_df['Stars'] = vadim_df.Stars",
   "id": "9fbc5c0ea9dcb974",
   "outputs": [],
   "execution_count": 65
  },
  {
   "metadata": {
    "ExecuteTime": {
     "end_time": "2024-08-25T17:39:09.719762Z",
     "start_time": "2024-08-25T17:39:09.705764Z"
    }
   },
   "cell_type": "code",
   "source": [
    "# from sklearn.datasets import load_iris\n",
    "\n",
    "# Load the Iris dataset\n",
    "# iris = load_iris()\n",
    "# iris_df = pd.DataFrame(data=iris.data, columns=iris.feature_names)\n",
    "# iris_df['species'] = iris.target\n"
   ],
   "id": "f263010fd3969524",
   "outputs": [],
   "execution_count": 32
  },
  {
   "metadata": {
    "ExecuteTime": {
     "end_time": "2024-08-25T17:48:22.724353Z",
     "start_time": "2024-08-25T17:48:22.704356Z"
    }
   },
   "cell_type": "code",
   "source": "",
   "id": "2a0de1bba32f843c",
   "outputs": [],
   "execution_count": 36
  },
  {
   "metadata": {
    "ExecuteTime": {
     "end_time": "2024-08-25T18:00:21.705231Z",
     "start_time": "2024-08-25T18:00:21.488300Z"
    }
   },
   "cell_type": "code",
   "source": [
    "# Create a boxplot\n",
    "plt.figure(figsize=(10, 6))\n",
    "sns.boxplot(data=mydata_df, orient='v')\n",
    "plt.title('Boxplot of Iris Dataset Features')\n",
    "plt.show()\n"
   ],
   "id": "c543ffafbacb58e0",
   "outputs": [
    {
     "data": {
      "text/plain": [
       "<Figure size 1000x600 with 1 Axes>"
      ],
      "image/png": "[encoded data removed]"
     },
     "metadata": {},
     "output_type": "display_data"
    }
   ],
   "execution_count": 66
  }
 ],
 "metadata": {
  "kernelspec": {
   "display_name": "Python 3",
   "language": "python",
   "name": "python3"
  },
  "language_info": {
   "codemirror_mode": {
    "name": "ipython",
    "version": 2
   },
   "file_extension": ".py",
   "mimetype": "text/x-python",
   "name": "python",
   "nbconvert_exporter": "python",
   "pygments_lexer": "ipython2",
   "version": "2.7.6"
  }
 },
 "nbformat": 4,
 "nbformat_minor": 5
}
